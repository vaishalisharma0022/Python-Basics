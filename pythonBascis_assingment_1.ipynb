{
 "cells": [
  {
   "cell_type": "markdown",
   "id": "4f7a6735-749c-401b-a1fa-317896a3ca3f",
   "metadata": {},
   "source": [
    "# Python Basics \n",
    "-Assingment questions "
   ]
  },
  {
   "cell_type": "markdown",
   "id": "8427b3ce-499d-4661-8911-ec2ccab70ab6",
   "metadata": {},
   "source": [
    "# Python basics Questions"
   ]
  },
  {
   "cell_type": "markdown",
   "id": "0e5dcbf1-d3f2-4e10-a7df-faab48000015",
   "metadata": {},
   "source": [
    "Q1. What is Python, and why is it popular?"
   ]
  },
  {
   "cell_type": "markdown",
   "id": "4875faac-4cae-41fd-ae2e-4a9f50914d74",
   "metadata": {},
   "source": [
    "Ans. Python is a high-level, interpreted programming language known for its readability, simplicity, and versatility. It was created by Guido van Rossum and first released in 1991. Python allows developers to write clear, logical code, making it an excellent choice for both beginners and experienced programmers. Its syntax is clean and easy to understand, which reduces the complexity of writing and maintaining code.\n",
    "\n",
    "Here are some reasons why Python is popular:\n",
    "\n",
    "Easy to Learn and Use: Python's syntax is simple, resembling English, which makes it beginner-friendly. You can write functional code with fewer lines compared to other programming languages.\n",
    "\n",
    "Versatility: Python can be used for a wide range of applications, from web development (with frameworks like Django or Flask), to data analysis (with libraries like Pandas or NumPy), artificial intelligence (with TensorFlow or PyTorch), automation, scientific computing, and more.\n",
    "\n",
    "Large Community and Libraries: Python has an extensive community of developers and a rich ecosystem of libraries and frameworks that allow you to accomplish a wide variety of tasks without reinventing the wheel.\n",
    "\n",
    "Cross-platform Compatibility: Python can run on all major operating systems like Windows, macOS, and Linux, making it highly portable.\n",
    "\n",
    "Integration Capabilities: Python can easily integrate with other languages (like C, C++, and Java) and technologies, which is useful for building more complex applications.\n",
    "\n",
    "Great for Prototyping: Python allows you to quickly prototype ideas due to its fast development cycle and dynamic typing system.\n",
    "\n",
    "These factors combined make Python a go-to language for a wide range of developers and industries."
   ]
  },
  {
   "cell_type": "markdown",
   "id": "6ddbab24-352a-4331-a7b7-dabed5470f91",
   "metadata": {},
   "source": [
    "Q2. What is an interpreter in Python?"
   ]
  },
  {
   "cell_type": "markdown",
   "id": "e497cd8f-504b-4722-8318-17af249064ec",
   "metadata": {},
   "source": [
    "Ans. An interpreter in Python is a program that reads and executes Python code line by line. Unlike a compiler, which translates the entire source code into machine code before execution, an interpreter executes the code directly, translating each line as it goes. Here's how it works:\n",
    "\n",
    "Reading Code: The interpreter reads the Python code line by line.\n",
    "Converting to Bytecode: It translates the high-level Python code into intermediate bytecode. This bytecode is platform-independent and can be executed by the Python runtime (the Python Virtual Machine, or PVM).\n",
    "Execution: The bytecode is executed by the PVM, which performs the tasks specified in the code.\n",
    "Key Features of Python's Interpreter:\n",
    "Line-by-line execution: This makes Python great for debugging and testing because you can immediately see the output or errors as you run the code.\n",
    "Interactive: The Python interpreter can be used interactively in a REPL (Read-Eval-Print Loop), where you type in code and get immediate results. This is useful for experimenting with Python features.\n",
    "Platform Independence: Python code is compiled into bytecode, which can run on any platform that has the Python interpreter installed, making Python cross-platform.\n",
    "Since Python is an interpreted language, it does not require a separate compilation step, making the development process faster and more flexible. However, it can be a bit slower than compiled languages like C or C++ due to the overhead of interpreting the code during execution."
   ]
  },
  {
   "cell_type": "markdown",
   "id": "f3e950e9-bc13-4594-aa1e-5c48b4aac876",
   "metadata": {},
   "source": [
    "Q3. What are pre-defined keywords in Python?"
   ]
  },
  {
   "cell_type": "markdown",
   "id": "cbeeac8d-499b-4554-9ead-75e3d12ddcc2",
   "metadata": {},
   "source": [
    "Ans. Pre-defined keywords in Python are reserved words that have a special meaning and cannot be used as identifiers (e.g., variable names, function names, or class names). These keywords are part of the Python language syntax and are used to define the structure and behavior of programs.\n",
    "\n",
    "Python has a set of keywords that are predefined in the language and cannot be redefined or used for other purposes. These keywords are used to define the flow of control (loops, conditionals), handle exceptions, and manage classes and functions, among other tasks.\n",
    "\n",
    "As of Python 3, here are the reserved keywords in Python:\n",
    "\n",
    "False – Boolean value indicating false.\n",
    "None – Represents the absence of a value or a null value.\n",
    "True – Boolean value indicating true.\n",
    "and – Logical AND operator.\n",
    "as – Used for aliasing when importing modules.\n",
    "assert – Used for debugging and testing conditions.\n",
    "async – Used for defining asynchronous functions.\n",
    "await – Used to call asynchronous functions.\n",
    "break – Exits the current loop.\n",
    "class – Defines a class.\n",
    "continue – Skips the current iteration of a loop.\n",
    "def – Defines a function.\n",
    "del – Deletes an object or variable.\n",
    "elif – Used in conditional statements (else if).\n",
    "else – Used in conditional statements.\n",
    "except – Defines an exception handler in try-except blocks.\n",
    "finally – Defines a block that runs after try-except regardless of exceptions.\n",
    "for – Defines a loop that iterates over a sequence.\n",
    "from – Used for importing specific parts of a module.\n",
    "global – Declares a global variable.\n",
    "if – Defines a conditional statement.\n",
    "import – Imports a module or library.\n",
    "in – Used to check if a value exists in a sequence or container.\n",
    "is – Tests object identity (if two objects are the same).\n",
    "lambda – Defines an anonymous function.\n",
    "nonlocal – Refers to a variable in the nearest enclosing scope.\n",
    "not – Logical NOT operator.\n",
    "or – Logical OR operator.\n",
    "pass – A placeholder that does nothing (used for empty code blocks).\n",
    "raise – Used to raise an exception.\n",
    "return – Exits a function and optionally returns a value.\n",
    "try – Defines a block of code to handle exceptions.\n",
    "while – Defines a loop that runs while a condition is true.\n",
    "with – Used for resource management (e.g., file handling).\n",
    "yield – Used in a generator function to return a value and pause execution.\n"
   ]
  },
  {
   "cell_type": "markdown",
   "id": "d0de9c72-6fec-42e6-a3fe-d6869f030f62",
   "metadata": {},
   "source": [
    "Q4. Can keywords be used as variable names?"
   ]
  },
  {
   "cell_type": "markdown",
   "id": "c34ac440-f4c2-4d7c-8188-980badc10808",
   "metadata": {},
   "source": [
    "Ans. No, keywords in Python cannot be used as variable names (or as names for any other identifiers like function names or class names). This is because keywords have special meanings in Python and are reserved by the language for specific purposes. Using them as variable names would lead to a syntax error."
   ]
  },
  {
   "cell_type": "markdown",
   "id": "27f5613c-874e-484a-ae6d-c9a312922d47",
   "metadata": {},
   "source": [
    "Q5. What is mutability in Python?"
   ]
  },
  {
   "cell_type": "markdown",
   "id": "8ee69dd0-be97-4acc-95b5-ec0dbb84133a",
   "metadata": {},
   "source": [
    "Ans. Mutability in Python refers to the ability of an object to be changed after it is created. An object is mutable if its state or value can be modified, while it is immutable if its state cannot be changed once it is created.\n",
    "\n",
    "Mutable Objects:\n",
    "Mutable objects are those that allow you to change their content or values after creation.\n",
    "Common examples of mutable objects in Python include:\n",
    "Lists: You can add, remove, or modify elements in a list.\n",
    "Dictionaries: You can add, remove, or modify key-value pairs in a dictionary.\n",
    "Sets: You can add or remove elements in a set."
   ]
  },
  {
   "cell_type": "markdown",
   "id": "c0c0f84b-b87b-4ec6-a67c-c5501a4cbb86",
   "metadata": {},
   "source": [
    "Q6. Why are lists mutable, but tuples are immutable?"
   ]
  },
  {
   "cell_type": "markdown",
   "id": "b297d13e-03c2-43ed-8241-8541f6204bcc",
   "metadata": {},
   "source": [
    "Ans. In Python:\n",
    "\n",
    "Lists are mutable, meaning their contents can be changed after creation. You can modify, add, or remove elements in a list. Lists are designed to allow modification of their elements in place.\n",
    "\n",
    "Tuples are immutable, meaning once they are created, their contents cannot be changed. You cannot add, remove, or modify elements of a tuple after it is created. Tuples are designed to be constant and unchangeable, which makes them useful for representing fixed collections of items.\n",
    "\n",
    "Summary:\n",
    "Lists: Mutable, can be modified after creation.\n",
    "Tuples: Immutable, cannot be modified after creation."
   ]
  },
  {
   "cell_type": "markdown",
   "id": "30887a39-2981-4789-a616-08b24d20e9b8",
   "metadata": {},
   "source": [
    "Ans. The == operator in Python checks if the values of two objects are equal, while the is operator checks if two objects refer to the same memory location (i.e., they are the same object in memory).\n",
    "\n",
    "== compares the contents of the objects.\n",
    "is compares the identity of the objects, i.e., whether they are the exact same object in memory."
   ]
  },
  {
   "cell_type": "markdown",
   "id": "5e7bed28-fa57-47fc-894f-98b9d9bc4f39",
   "metadata": {},
   "source": [
    "Q8. What are logical operators in Python?"
   ]
  },
  {
   "cell_type": "markdown",
   "id": "096a07f8-e21b-43a6-8676-f109145c9c0a",
   "metadata": {},
   "source": [
    "Ans. In Python, logical operators are used to combine conditional statements or expressions and return a Boolean value (True or False). There are three main logical operators:\n",
    "\n",
    "and: Returns True if both conditions are True. Otherwise, it returns False.\n",
    "or: Returns True if at least one of the conditions is True. If both are False, it returns False.\n",
    "not: Reverses the Boolean value of the condition. It returns True if the condition is False, and False if the condition is True.\n",
    "These logical operators are commonly used in conditional statements, such as if or while loops, to combine multiple conditions."
   ]
  },
  {
   "cell_type": "markdown",
   "id": "db18084b-1bfe-4b43-9b90-4519488c4d9d",
   "metadata": {},
   "source": [
    "Q9. What is type casting in Python?"
   ]
  },
  {
   "cell_type": "markdown",
   "id": "8f24f551-e2fc-4bfc-9476-b5ec42db2719",
   "metadata": {},
   "source": [
    "Ans. Type casting in Python is the process of converting a variable from one data type to another. It can be done in two ways:\n",
    "\n",
    "Implicit Type Casting: Python automatically converts one data type to another when necessary, without explicit intervention from the programmer. This usually happens when no data loss is involved, like converting integers to floats in arithmetic operations.\n",
    "\n",
    "Explicit Type Casting: The programmer manually converts a variable from one type to another using functions like int(), float(), str(), etc., to ensure the variable has the desired type.\n",
    "\n",
    "Type casting is important for working with different data types and ensuring compatibility between them during operations."
   ]
  },
  {
   "cell_type": "markdown",
   "id": "9deea055-e013-4064-9526-9b0146c453e5",
   "metadata": {},
   "source": [
    "Q10. What is the difference between implicit and explicit type casting?"
   ]
  },
  {
   "cell_type": "markdown",
   "id": "a2e8c55e-ab40-4b71-8065-fde1b1280833",
   "metadata": {},
   "source": [
    "Ans. The difference between implicit and explicit type casting lies in how the conversion is performed:\n",
    "\n",
    "Implicit Type Casting (Automatic Type Conversion):\n",
    "\n",
    "Python automatically converts one data type to another when needed, without the programmer's intervention.\n",
    "It happens when there is no risk of data loss and when Python determines it is safe to perform the conversion.\n",
    "Typically occurs when performing operations between different data types (e.g., adding an integer and a float).\n",
    "Explicit Type Casting (Manual Type Conversion):\n",
    "\n",
    "The programmer explicitly converts a variable from one data type to another using functions like int(), float(), str(), etc.\n",
    "This is done when the programmer wants to ensure the variable is in a specific format or type.\n"
   ]
  },
  {
   "cell_type": "markdown",
   "id": "8baa16ad-f9d0-4438-a284-402e306448a6",
   "metadata": {},
   "source": [
    "Q11. What is the purpose of conditional statements in Python?"
   ]
  },
  {
   "cell_type": "markdown",
   "id": "f00a3baf-42c4-4ffe-b8f0-d3c0b0f58d99",
   "metadata": {},
   "source": [
    "Ans. The purpose of conditional statements in Python is to allow the program to execute certain blocks of code based on whether a specified condition is True or False. They are used for decision-making, enabling the program to follow different execution paths depending on the values of variables, user inputs, or the results of expressions.\n",
    "\n",
    "Conditional statements help in controlling the flow of the program, making it possible to run different code blocks under different conditions.\n",
    "\n",
    "The main types of conditional statements in Python are:\n",
    "\n",
    "if statement: Executes a block of code if the specified condition is True.\n",
    "elif (else if) statement: Checks for additional conditions if the if condition is False.\n",
    "else statement: Executes a block of code if all preceding if and elif conditions are False.\n",
    "These statements are essential for making decisions in programs and for handling different scenarios, such as error handling or branching logic based on input."
   ]
  },
  {
   "cell_type": "markdown",
   "id": "aa554846-76e6-4013-8304-4d0517973c9e",
   "metadata": {},
   "source": [
    "Q12. How does the elif statement work?"
   ]
  },
  {
   "cell_type": "markdown",
   "id": "39245e44-2dd5-4be5-935d-374645d49649",
   "metadata": {},
   "source": [
    "Ans. The elif (short for \"else if\") statement in Python is used to check additional conditions if the previous if condition(s) were not True. It allows you to test multiple conditions sequentially, and once a condition evaluates to True, the corresponding block of code is executed. If none of the conditions are True, the else block (if provided) will execute.\n",
    "\n",
    "How it works:\n",
    "The if statement is evaluated first.\n",
    "If the if condition is True, its block of code is executed, and the rest of the elif and else statements are skipped.\n",
    "If the if condition is False, the program moves to the next elif condition (if there are any).\n",
    "If one of the elif conditions is True, its corresponding block of code is executed.\n",
    "If none of the if or elif conditions are True, the else block (if provided) will execute."
   ]
  },
  {
   "cell_type": "markdown",
   "id": "26ac04f6-3f15-478b-88c8-e4f49d36b3a3",
   "metadata": {},
   "source": [
    "Q13. What is the difference between for and while loops?"
   ]
  },
  {
   "cell_type": "markdown",
   "id": "07ebc5ec-58b2-46e3-ae45-1fbf0a3d90e1",
   "metadata": {},
   "source": [
    "Ans. The main difference between for and while loops in Python lies in how the loop's condition is evaluated and how they iterate:\n",
    "\n",
    "1. for loop:\n",
    "Purpose: The for loop is used when you want to iterate over a sequence (such as a list, tuple, string, or range) a specific number of times.\n",
    "It is generally used when the number of iterations is known or finite.\n",
    "The loop iterates over each element in the sequence and executes a block of code for each element.\n",
    "2. while loop:\n",
    "Purpose: The while loop is used when you want to continue iterating as long as a condition is True.\n",
    "It is typically used when the number of iterations is not known in advance and depends on a condition that is checked before each iteration.\n",
    "The loop continues until the condition becomes False.\n",
    "Key Differences:\n",
    "for loop: Iterates over a sequence (list, range, etc.) or any iterable object, and the number of iterations is determined by the length of the sequence or range.\n",
    "while loop: Iterates as long as a condition is True, and the number of iterations depends on the condition rather than a fixed sequence.\n",
    "In summary:\n",
    "\n",
    "Use a for loop when you know the number of iterations or when iterating over a sequence.\n",
    "Use a while loop when the loop needs to run until a specific condition is met, and the number of iterations is not predetermined."
   ]
  },
  {
   "cell_type": "markdown",
   "id": "cb5bc3c8-1a0d-4722-abbb-426aedad8c01",
   "metadata": {},
   "source": [
    "Q14. Describe a scenario where a while loop is more suitable than a for loop."
   ]
  },
  {
   "cell_type": "markdown",
   "id": "a828b38b-4fa5-4e93-849d-7048b6852713",
   "metadata": {},
   "source": [
    "Ans. A while loop is more suitable than a for loop in scenarios where the number of iterations is not known in advance and is dependent on a condition that is evaluated during the execution of the loop. Specifically, a while loop is ideal when the loop needs to continue executing as long as a certain condition remains true, and the termination depends on factors that are only determined during runtime, rather than a fixed number of iterations or sequence.\n",
    "\n",
    "For example, when you need to keep asking for user input until a valid response is provided, or when the loop should continue running until a particular state or condition changes, a while loop is more appropriate because it allows for indefinite iteration until the desired condition is met."
   ]
  },
  {
   "cell_type": "markdown",
   "id": "ed152aac-059d-49ae-97fb-23241f6cd3de",
   "metadata": {},
   "source": [
    "Q1. Write a Python program to print \"Hello, World!\"\n"
   ]
  },
  {
   "cell_type": "code",
   "execution_count": 1,
   "id": "7bfeb217-b317-4726-9c31-bd8b4c598c46",
   "metadata": {},
   "outputs": [
    {
     "name": "stdout",
     "output_type": "stream",
     "text": [
      "hello world\n"
     ]
    }
   ],
   "source": [
    "print(\"hello world\")"
   ]
  },
  {
   "cell_type": "markdown",
   "id": "bdeb5bf4-2946-4898-bf66-3fdb1ce0abc4",
   "metadata": {},
   "source": [
    "Q2. Write a Python program that displays your name and age."
   ]
  },
  {
   "cell_type": "code",
   "execution_count": 2,
   "id": "933c0da6-3eb5-45ad-8674-4ef222028cd0",
   "metadata": {},
   "outputs": [
    {
     "name": "stdout",
     "output_type": "stream",
     "text": [
      "My name is : vaishali sharma My age is : 25\n"
     ]
    }
   ],
   "source": [
    "name = \"vaishali sharma\"\n",
    "age = 25\n",
    "print(\"My name is :\", name, \"My age is :\", age) "
   ]
  },
  {
   "cell_type": "markdown",
   "id": "e65ed298-4ea3-478e-b318-1133c2dc0fdf",
   "metadata": {},
   "source": [
    "Q3. Write code to print all the pre-defined keywords in Python using the keyword library."
   ]
  },
  {
   "cell_type": "code",
   "execution_count": 7,
   "id": "d4ea2826-735c-4818-98db-0ad1aba59f96",
   "metadata": {},
   "outputs": [
    {
     "name": "stdout",
     "output_type": "stream",
     "text": [
      "\n",
      "Here is a list of the Python keywords.  Enter any keyword to get more help.\n",
      "\n",
      "False               class               from                or\n",
      "None                continue            global              pass\n",
      "True                def                 if                  raise\n",
      "and                 del                 import              return\n",
      "as                  elif                in                  try\n",
      "assert              else                is                  while\n",
      "async               except              lambda              with\n",
      "await               finally             nonlocal            yield\n",
      "break               for                 not                 \n",
      "\n"
     ]
    }
   ],
   "source": [
    "help('keywords')"
   ]
  },
  {
   "cell_type": "markdown",
   "id": "024d5e4e-5e0b-41f3-9b0e-3ba78278ccc1",
   "metadata": {},
   "source": [
    "Q4. Write a program that checks if a given word is a Python keyword."
   ]
  },
  {
   "cell_type": "code",
   "execution_count": 10,
   "id": "6b3529f5-8c44-4a3d-86f6-d3f95d07416d",
   "metadata": {},
   "outputs": [
    {
     "name": "stdin",
     "output_type": "stream",
     "text": [
      "enter a word to check if it's a python keyword: False\n"
     ]
    },
    {
     "name": "stdout",
     "output_type": "stream",
     "text": [
      "yes False is a python keyword\n"
     ]
    }
   ],
   "source": [
    "import keyword \n",
    "word = input(\"enter a word to check if it's a python keyword:\")\n",
    "if keyword.iskeyword(word):\n",
    "    print(\"yes\", word, \"is a python keyword\")\n",
    "else:\n",
    "    print(\"no\", word, \"is not a python keyword\")"
   ]
  },
  {
   "cell_type": "markdown",
   "id": "d78306f5-3c73-44ee-bcaf-8b81599bc0a6",
   "metadata": {},
   "source": [
    "Q5. Create a list and tuple in Python, and demonstrate how attempting to change an element works differently \n",
    "for each."
   ]
  },
  {
   "cell_type": "code",
   "execution_count": 12,
   "id": "6f03e561-ea31-4b78-a39d-31ade686e564",
   "metadata": {},
   "outputs": [
    {
     "name": "stdout",
     "output_type": "stream",
     "text": [
      "Modified list: [1, 42, 3]\n"
     ]
    },
    {
     "ename": "TypeError",
     "evalue": "'tuple' object does not support item assignment",
     "output_type": "error",
     "traceback": [
      "\u001b[1;31m---------------------------------------------------------------------------\u001b[0m",
      "\u001b[1;31mTypeError\u001b[0m                                 Traceback (most recent call last)",
      "Cell \u001b[1;32mIn[12], line 6\u001b[0m\n\u001b[0;32m      4\u001b[0m my_list[\u001b[38;5;241m1\u001b[39m] \u001b[38;5;241m=\u001b[39m \u001b[38;5;241m42\u001b[39m\n\u001b[0;32m      5\u001b[0m \u001b[38;5;28mprint\u001b[39m(\u001b[38;5;124m\"\u001b[39m\u001b[38;5;124mModified list:\u001b[39m\u001b[38;5;124m\"\u001b[39m, my_list)\n\u001b[1;32m----> 6\u001b[0m \u001b[43mmy_tuple\u001b[49m\u001b[43m[\u001b[49m\u001b[38;5;241;43m1\u001b[39;49m\u001b[43m]\u001b[49m \u001b[38;5;241m=\u001b[39m \u001b[38;5;241m42\u001b[39m\n\u001b[0;32m      7\u001b[0m \u001b[38;5;28mprint\u001b[39m(\u001b[38;5;124m\"\u001b[39m\u001b[38;5;124mModified tuple:\u001b[39m\u001b[38;5;124m\"\u001b[39m, my_tuple)\n",
      "\u001b[1;31mTypeError\u001b[0m: 'tuple' object does not support item assignment"
     ]
    }
   ],
   "source": [
    "my_list = [1, 2, 3]\n",
    "my_tuple = (1, 2, 3)\n",
    "\n",
    "my_list[1] = 42\n",
    "print(\"Modified list:\", my_list)\n",
    "my_tuple[1] = 42\n",
    "print(\"Modified tuple:\", my_tuple)\n",
    "\n"
   ]
  },
  {
   "cell_type": "markdown",
   "id": "9211a9a9-a3be-499c-a0e4-982e421c0a76",
   "metadata": {},
   "source": [
    "Q6. Write a function to demonstrate the behavior of mutable and immutable arguments."
   ]
  },
  {
   "cell_type": "code",
   "execution_count": 13,
   "id": "fadf5d1c-0046-4ac3-a96f-4896524bd44a",
   "metadata": {},
   "outputs": [
    {
     "name": "stdout",
     "output_type": "stream",
     "text": [
      "Before function call - Mutable object: [1, 2, 3]\n",
      "Before function call - Immutable object: 10\n",
      "Inside function - Mutable object: [1, 2, 3, 100]\n",
      "Inside function - Immutable object: 60\n",
      "After function call - Mutable object: [1, 2, 3, 100]\n",
      "After function call - Immutable object: 10\n"
     ]
    }
   ],
   "source": [
    "def modify_objects(mutable_obj, immutable_obj):\n",
    "    # Modify the mutable object (list)\n",
    "    mutable_obj.append(100)\n",
    "    \n",
    "    # Attempt to modify the immutable object (integer)\n",
    "    immutable_obj += 50\n",
    "\n",
    "    print(\"Inside function - Mutable object:\", mutable_obj)\n",
    "    print(\"Inside function - Immutable object:\", immutable_obj)\n",
    "\n",
    "\n",
    "# Initial objects\n",
    "my_list = [1, 2, 3]  # Mutable\n",
    "my_int = 10          # Immutable\n",
    "\n",
    "print(\"Before function call - Mutable object:\", my_list)\n",
    "print(\"Before function call - Immutable object:\", my_int)\n",
    "\n",
    "# Call the function\n",
    "modify_objects(my_list, my_int)\n",
    "\n",
    "print(\"After function call - Mutable object:\", my_list)\n",
    "print(\"After function call - Immutable object:\", my_int)\n"
   ]
  },
  {
   "cell_type": "markdown",
   "id": "5c432bda-18c0-49ae-90e0-82b37ba56cc4",
   "metadata": {},
   "source": [
    "Q7. Write a function to demonstrate the behavior of mutable and immutable arguments."
   ]
  },
  {
   "cell_type": "markdown",
   "id": "39d34a7e-398b-4336-a24b-b4fed9ba10cd",
   "metadata": {},
   "source": [
    "same as question number 6"
   ]
  },
  {
   "cell_type": "markdown",
   "id": "82f6a25c-284f-4e8f-a1e1-00db5c9265d1",
   "metadata": {},
   "source": [
    "Q8. Write a program to demonstrate the use of logical operators."
   ]
  },
  {
   "cell_type": "code",
   "execution_count": 16,
   "id": "ca19cc20-fff2-4114-8e9f-a1a2438979b0",
   "metadata": {},
   "outputs": [
    {
     "name": "stdout",
     "output_type": "stream",
     "text": [
      "True\n",
      "True\n",
      "False\n"
     ]
    }
   ],
   "source": [
    "# Use of logical operators.\n",
    "x = 5 \n",
    "print(x > 3 and x < 10) # and operator\n",
    "print(x > 3 or  x < 4) # or operator\n",
    "print(not(x > 3 and x < 10)) # not operator"
   ]
  },
  {
   "cell_type": "markdown",
   "id": "36fd22b4-c318-443f-82f7-dae64be6a3eb",
   "metadata": {},
   "source": [
    "Q9. Write a Python program to convert user input from string to integer, float, and boolean types."
   ]
  },
  {
   "cell_type": "code",
   "execution_count": 17,
   "id": "bb2274ef-ac64-4724-8e0f-4b04a71b39b8",
   "metadata": {},
   "outputs": [
    {
     "name": "stdin",
     "output_type": "stream",
     "text": [
      "Enter a value:  42\n"
     ]
    },
    {
     "name": "stdout",
     "output_type": "stream",
     "text": [
      "Integer value: 42\n",
      "Float value: 42.0\n",
      "Cannot determine boolean value.\n"
     ]
    }
   ],
   "source": [
    "# Get user input as a string\n",
    "user_input = input(\"Enter a value: \")\n",
    "\n",
    "# Convert to integer\n",
    "int_value = int(user_input)\n",
    "print(f\"Integer value: {int_value}\")\n",
    "# Convert to float\n",
    "float_value = float(user_input)\n",
    "print(f\"Float value: {float_value}\")\n",
    "\n",
    "\n",
    "# Convert to boolean\n",
    "# Any non-empty string will result in True, except \"0\" which is commonly treated as False in boolean contexts.\n",
    "if user_input.lower() in ['true', '1']:\n",
    "    bool_value = True\n",
    "elif user_input.lower() in ['false', '0']:\n",
    "    bool_value = False\n",
    "else:\n",
    "    print(\"Cannot determine boolean value.\")\n",
    "    bool_value = None\n",
    "\n",
    "if bool_value is not None:\n",
    "    print(f\"Boolean value: {bool_value}\")\n"
   ]
  },
  {
   "cell_type": "markdown",
   "id": "2ca352ae-21c7-49c7-823b-5e619fe2bd10",
   "metadata": {},
   "source": [
    "Q10. Write code to demonstrate type casting with list elements"
   ]
  },
  {
   "cell_type": "code",
   "execution_count": 24,
   "id": "71af43bd-9b79-43c8-8593-46a45817ed03",
   "metadata": {},
   "outputs": [
    {
     "name": "stdout",
     "output_type": "stream",
     "text": [
      "Original list: ['123', '45.67', 'True', 'False', 10]\n",
      "Converted 123 to integer.\n",
      "Converted 45.67 to float.\n",
      "Converted True to boolean (True).\n",
      "Converted False to boolean (False).\n",
      "Kept 10 as is.\n",
      "Casted list: [123, 45.67, True, False, 10]\n"
     ]
    }
   ],
   "source": [
    "# List with elements of different types (string representations of numbers, a float, and an integer)\n",
    "my_list = [\"123\", \"45.67\", \"True\", \"False\", 10]\n",
    "\n",
    "print(\"Original list:\", my_list)\n",
    "\n",
    "# Type casting elements of the list\n",
    "casted_list = []\n",
    "for item in my_list:\n",
    "    if isinstance(item, str):\n",
    "        try:\n",
    "            # Attempt to convert to integer\n",
    "            casted_list.append(int(item))\n",
    "            print(\"Converted\", item, \"to integer.\")\n",
    "        except ValueError:\n",
    "            try:\n",
    "                # Attempt to convert to float\n",
    "                casted_list.append(float(item))\n",
    "                print(\"Converted\", item,  \"to float.\")\n",
    "            except ValueError:\n",
    "                try:\n",
    "                    # Attempt to convert to boolean\n",
    "                    if item.lower() == \"true\":\n",
    "                        casted_list.append(True)\n",
    "                        print(\"Converted\", item, \"to boolean (True).\")\n",
    "                    elif item.lower() == \"false\":\n",
    "                        casted_list.append(False)\n",
    "                        print(\"Converted\", item, \"to boolean (False).\")\n",
    "                    else:\n",
    "                        raise ValueError\n",
    "                except ValueError:\n",
    "                    print(\"Could not convert\", item)\n",
    "    else:\n",
    "        # Append non-string items directly\n",
    "        casted_list.append(item)\n",
    "        print(\"Kept\", item, \"as is.\")\n",
    "\n",
    "print(\"Casted list:\", casted_list)\n"
   ]
  },
  {
   "cell_type": "markdown",
   "id": "7b71a175-3b54-45d7-94c4-264c7250356a",
   "metadata": {},
   "source": [
    "Q11. Write a program that checks if a number is positive, negative, or zero"
   ]
  },
  {
   "cell_type": "code",
   "execution_count": 25,
   "id": "1bbef99d-8d91-4225-acac-9ed0c2e89499",
   "metadata": {},
   "outputs": [
    {
     "name": "stdin",
     "output_type": "stream",
     "text": [
      "Enter a number:  -22\n"
     ]
    },
    {
     "name": "stdout",
     "output_type": "stream",
     "text": [
      "The number is negative.\n"
     ]
    }
   ],
   "source": [
    "# Get user input\n",
    "number = float(input(\"Enter a number: \"))\n",
    "\n",
    "# Check if the number is positive, negative, or zero\n",
    "if number > 0:\n",
    "    print(\"The number is positive.\")\n",
    "elif number < 0:\n",
    "    print(\"The number is negative.\")\n",
    "else:\n",
    "    print(\"The number is zero.\")\n"
   ]
  },
  {
   "cell_type": "markdown",
   "id": "53f26a34-2f54-4d92-9db2-9f932066d9b2",
   "metadata": {},
   "source": [
    "Q12. Write a for loop to print numbers from 1 to 10"
   ]
  },
  {
   "cell_type": "code",
   "execution_count": 26,
   "id": "545fe17b-2b9e-4b05-ba99-5bc083defae6",
   "metadata": {},
   "outputs": [
    {
     "name": "stdout",
     "output_type": "stream",
     "text": [
      "1\n",
      "2\n",
      "3\n",
      "4\n",
      "5\n",
      "6\n",
      "7\n",
      "8\n",
      "9\n",
      "10\n"
     ]
    }
   ],
   "source": [
    "for number in range(1, 11):\n",
    "    print(number)\n"
   ]
  },
  {
   "cell_type": "markdown",
   "id": "43ad7714-2152-48fa-bd60-0ff4be443166",
   "metadata": {},
   "source": [
    "Q13. Write a Python program to find the sum of all even numbers between 1 and 50."
   ]
  },
  {
   "cell_type": "code",
   "execution_count": 27,
   "id": "6238f405-40fa-4816-9bd4-031f1e58f17d",
   "metadata": {},
   "outputs": [
    {
     "name": "stdout",
     "output_type": "stream",
     "text": [
      "The sum of all even numbers between 1 and 50 is: 650\n"
     ]
    }
   ],
   "source": [
    "# Initialize the sum variable\n",
    "sum_of_evens = 0\n",
    "\n",
    "# Loop through numbers from 1 to 50\n",
    "for number in range(1, 51):\n",
    "    if number % 2 == 0:  # Check if the number is even\n",
    "        sum_of_evens += number\n",
    "\n",
    "# Print the result\n",
    "print(\"The sum of all even numbers between 1 and 50 is:\", sum_of_evens)\n"
   ]
  },
  {
   "cell_type": "markdown",
   "id": "2693e8cb-ffb3-44f3-9c62-bfd2e058d3d2",
   "metadata": {},
   "source": [
    "Q14. Write a program to reverse a string using a while loop."
   ]
  },
  {
   "cell_type": "code",
   "execution_count": 29,
   "id": "6dd2fadc-5537-4c03-8855-8b1c526dc6a7",
   "metadata": {},
   "outputs": [
    {
     "name": "stdin",
     "output_type": "stream",
     "text": [
      "Enter a string:  vaishali\n"
     ]
    },
    {
     "name": "stdout",
     "output_type": "stream",
     "text": [
      "Reversed string: ilahsiav\n"
     ]
    }
   ],
   "source": [
    "# Input string\n",
    "input_string = input(\"Enter a string: \")\n",
    "\n",
    "# Initialize variables\n",
    "reversed_string = \"\"\n",
    "index = len(input_string) - 1\n",
    "\n",
    "# Reverse the string using a while loop\n",
    "while index >= 0:\n",
    "    reversed_string += input_string[index]\n",
    "    index -= 1\n",
    "\n",
    "# Print the reversed string\n",
    "print(\"Reversed string:\", reversed_string)\n"
   ]
  },
  {
   "cell_type": "markdown",
   "id": "ad3f857a-8ef8-4db6-8447-95b74355a5d7",
   "metadata": {},
   "source": [
    "Q15. Write a Python program to calculate the factorial of a number provided by the user using a while loop."
   ]
  },
  {
   "cell_type": "code",
   "execution_count": 30,
   "id": "1bb2961a-8049-4554-b182-b29d88782981",
   "metadata": {},
   "outputs": [
    {
     "name": "stdin",
     "output_type": "stream",
     "text": [
      "Enter a number to calculate its factorial:  5\n"
     ]
    },
    {
     "name": "stdout",
     "output_type": "stream",
     "text": [
      "The factorial is: 120\n"
     ]
    }
   ],
   "source": [
    "# Input: Get the number from the user\n",
    "num = int(input(\"Enter a number to calculate its factorial: \"))\n",
    "\n",
    "# Initialize the factorial result\n",
    "factorial = 1\n",
    "\n",
    "# Check if the number is negative, zero, or positive\n",
    "if num < 0:\n",
    "    print(\"Factorial is not defined for negative numbers.\")\n",
    "elif num == 0:\n",
    "    print(\"The factorial of 0 is 1.\")\n",
    "else:\n",
    "    # Calculate the factorial using a while loop\n",
    "    while num > 1:\n",
    "        factorial *= num\n",
    "        num -= 1\n",
    "    \n",
    "    # Print the result\n",
    "    print(\"The factorial is:\", factorial)\n"
   ]
  },
  {
   "cell_type": "code",
   "execution_count": null,
   "id": "ebee9814-fe96-4663-bba7-2eb053229547",
   "metadata": {},
   "outputs": [],
   "source": []
  }
 ],
 "metadata": {
  "kernelspec": {
   "display_name": "Python 3 (ipykernel)",
   "language": "python",
   "name": "python3"
  },
  "language_info": {
   "codemirror_mode": {
    "name": "ipython",
    "version": 3
   },
   "file_extension": ".py",
   "mimetype": "text/x-python",
   "name": "python",
   "nbconvert_exporter": "python",
   "pygments_lexer": "ipython3",
   "version": "3.12.6"
  }
 },
 "nbformat": 4,
 "nbformat_minor": 5
}
